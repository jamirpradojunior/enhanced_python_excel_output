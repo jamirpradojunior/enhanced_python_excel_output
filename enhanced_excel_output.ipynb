{
 "cells": [
  {
   "cell_type": "markdown",
   "metadata": {},
   "source": [
    "# **Personalize seu output Excel com a lib xlsxwriter**"
   ]
  },
  {
   "cell_type": "markdown",
   "metadata": {},
   "source": [
    "---\n",
    "\n",
    "**Definição do problema**\n",
    "\n",
    "Personalizar um arquivo Excel pode demandar bastante tempo, ainda mais quando os dados vêm de fontes externas. Além disso, a padronização desses outputs é fundamental para construção de relatórios de qualidade. Por isso, nada melhor que automatizar essas tarefas!\n",
    "\n",
    "---"
   ]
  },
  {
   "cell_type": "markdown",
   "metadata": {},
   "source": [
    "Nesse código, vamos construir um arquivo Excel que mostra um relatório de uma carteira teórica de ativos. Nosso primeiro dataset é composto pelos dados de cotações (abertura, máxima, mínima e fechamento) desses ativos cobrindo um período de um ano. Nosso segundo dataset são os eventos de pagamentos de proventos (ex., dividendos, JCP) dos ativos. O relatório mostrará a participação desses ativos na carteira, valor de mercado inicial e atual e o saldo líquido de cada ativo. Para gerar o output Excel personalizado, utilizaremos a biblioteca xlsxwriter. Busquei cobrir grande parte das seções da documentação para explorar as diferentes funções."
   ]
  },
  {
   "cell_type": "markdown",
   "metadata": {},
   "source": [
    "A biblioteca xlsxwriter é uma poderosa ferramenta para a criação de arquivos Excel (.xlsx) em Python. Ela permite uma variedade de formatação de células, inserção de gráficos, fórmulas e funções, além de suporte a imagens e objetos. É compatível com o formato Office Open XML, possui documentação bastante abrangente e uma comunidade bem ativa para consultas.\n",
    "\n",
    "https://xlsxwriter.readthedocs.io/index.html\n",
    "\n",
    "https://xlsxwriter.readthedocs.io/workbook.html\n",
    "\n",
    "https://xlsxwriter.readthedocs.io/format.html"
   ]
  },
  {
   "cell_type": "markdown",
   "metadata": {},
   "source": [
    "## 1. Bibliotecas"
   ]
  },
  {
   "cell_type": "code",
   "execution_count": 1,
   "metadata": {},
   "outputs": [],
   "source": [
    "#pip install xlsxwriter\n",
    "\n",
    "# Manipulação de dados\n",
    "import numpy as np\n",
    "import pandas as pd\n",
    "import datetime\n",
    "import random\n",
    "\n",
    "# Formatação output Excel\n",
    "import xlsxwriter\n",
    "\n",
    "# Obtenção preços e proventos ativos\n",
    "import yfinance as yf"
   ]
  },
  {
   "cell_type": "markdown",
   "metadata": {},
   "source": [
    "## 2. Funções para extração dos dados"
   ]
  },
  {
   "cell_type": "markdown",
   "metadata": {},
   "source": [
    "**OBS:** Nessa seção vamos construir funções para obter os dados de cotações das ações considerando um período pré-estabelecido. Você pode pular para a próxima seção caso o foco seja apenas na customização do output Excel."
   ]
  },
  {
   "cell_type": "markdown",
   "metadata": {},
   "source": [
    "Criamos uma lista com os tickers de seis ativos do IBOV. Os tickers das ações brasileiras do yfinance incluem o \".SA\" no final. Para isso, usamos uma compreensão de lista para adicionar .SA em cada item da lista (ticker)"
   ]
  },
  {
   "cell_type": "code",
   "execution_count": 2,
   "metadata": {},
   "outputs": [],
   "source": [
    "ativos = ['ABEV3', 'ELET3', 'ITUB4', 'PETR4', 'VALE3', 'WEGE3']\n",
    "ativos_yf = [i + '.SA' for i in ativos]"
   ]
  },
  {
   "cell_type": "markdown",
   "metadata": {},
   "source": [
    "Definimos as datas de início e fim da nossa análise, usando o formato '%Y-%m-%d' (ex. '2020-01-01'). Vamos definir como padrão a start_date como a data de um ano atrás e o end_date como a data de ontem"
   ]
  },
  {
   "cell_type": "code",
   "execution_count": 3,
   "metadata": {},
   "outputs": [],
   "source": [
    "start_date=(datetime.datetime.now()-datetime.timedelta(days=366)).strftime('%Y-%m-%d')\n",
    "end_date=(datetime.datetime.now() - datetime.timedelta(days=1)).strftime('%Y-%m-%d')"
   ]
  },
  {
   "cell_type": "markdown",
   "metadata": {},
   "source": [
    "Função precos_ativos_yf:\n",
    "\n",
    "1. Exige os parâmetros ativos_yf, start_date e end_date (todos definidos acima);\n",
    "2. Cria um dicionário que será preenchido ao longo do loop (mais \"correto\" que popular um dataframe linha a linha);\n",
    "3. Para cada ativo (loop), baixa as cotações entre as datas especificadas e armazena a abertura do primeiro dia, máxima das máximas, mínima das mínimas e último preço de fechamento;\n",
    "4. Ainda no loop, preenche o dicionário nas chaves especificadas;\n",
    "5. Após o loop, transforma o dicionário em dataframe;\n",
    "6. Remove o \".SA\" dos nomes dos ativos;\n",
    "7. Formata as colunas de datas para datetime;\n",
    "8. Retorna o dataframe"
   ]
  },
  {
   "cell_type": "code",
   "execution_count": 4,
   "metadata": {},
   "outputs": [],
   "source": [
    "def precos_ativos_yf(ativos_yf, start_date=start_date, end_date=end_date):\n",
    "\n",
    "    dict_precos = {\n",
    "        \"Ativo\": [],\n",
    "        \"Data início\": [],\n",
    "        \"Data final\": [],\n",
    "        \"Abertura\": [],\n",
    "        \"Máxima\": [],\n",
    "        \"Mínima\": [],\n",
    "        \"Fechamento\": [],\n",
    "    }\n",
    "\n",
    "    for i in ativos_yf:\n",
    "        df_ohlc = yf.download(\n",
    "                        i,\n",
    "                        start=start_date,\n",
    "                        end=end_date,\n",
    "                        interval='1d',\n",
    "                        progress=False\n",
    "                    )\n",
    "        abertura = df_ohlc.Open.iloc[0]\n",
    "        minima = df_ohlc.Low.min()\n",
    "        maxima = df_ohlc.High.max()\n",
    "        fechamento = df_ohlc.Close.iloc[-1]\n",
    "\n",
    "        dict_precos[\"Ativo\"].append(i)\n",
    "        dict_precos[\"Data início\"].append(start_date)\n",
    "        dict_precos[\"Data final\"].append(end_date)\n",
    "        dict_precos[\"Abertura\"].append(abertura)\n",
    "        dict_precos[\"Máxima\"].append(maxima)\n",
    "        dict_precos[\"Mínima\"].append(minima)\n",
    "        dict_precos[\"Fechamento\"].append(fechamento)\n",
    "    \n",
    "    df_precos_ativos = pd.DataFrame.from_dict(\n",
    "        dict_precos, orient='columns')\n",
    "    \n",
    "    df_precos_ativos['Ativo'] = df_precos_ativos.Ativo.str.replace('.SA', '')\n",
    "    df_precos_ativos['Data início'] = pd.to_datetime(df_precos_ativos['Data início'])\n",
    "    df_precos_ativos['Data final'] = pd.to_datetime(df_precos_ativos['Data final'])\n",
    "    \n",
    "    return df_precos_ativos"
   ]
  },
  {
   "cell_type": "markdown",
   "metadata": {},
   "source": [
    "Função ativos_composicao_carteira:\n",
    "\n",
    "1. Exige o parâmetros ativos_yf (nossa lista de ativos_yf);\n",
    "2. Roda a função anterior para gerar o dataframe de preços;\n",
    "3. Define o random.seed para que os resultados da pseudoaleatorização sejam replicáveis (apenas para que você tenha o mesmo resultado que eu apresento aqui)\n",
    "4. Cria uma lista composta por números inteiros entre 100 e 1000 e com tamanho igual ao nosso número de ativos;\n",
    "5. Cria uma coluna com a quantidade comprada de cada ação (não estão em lotes de 100, mas vamos considerar que foram feitas compras também no mercado fracionário)\n",
    "6. Retorna o dataframe df_composicao_carteira"
   ]
  },
  {
   "cell_type": "code",
   "execution_count": 5,
   "metadata": {},
   "outputs": [],
   "source": [
    "def ativos_composicao_carteira(ativos_yf):\n",
    "\n",
    "    df_precos_ativos = precos_ativos_yf(ativos_yf)\n",
    "    \n",
    "    ativos = df_precos_ativos.Ativo\n",
    "    random.seed(3)\n",
    "    ls_qtd_acoes = random.sample(range(100, 1000), len(ativos))\n",
    "    df_precos_ativos['Quantidade'] = ls_qtd_acoes\n",
    "\n",
    "    df_composicao_carteira = df_precos_ativos.copy()\n",
    "    \n",
    "    return df_composicao_carteira"
   ]
  },
  {
   "cell_type": "markdown",
   "metadata": {},
   "source": [
    "Função proventos_ativos_yfinance:\n",
    "\n",
    "1. Exige os parâmetros ativos_yf, start_date e end_date (definidos acima);\n",
    "2. Cria um dataframe \"df_proventos\" vazio;\n",
    "4. Para cada ativo (loop), extrai os proventos (ex., dividendos, JCP) pagos e suas respectivas datas;\n",
    "5. Filtra o dataframe de pagamentos considerando apenas o período avaliado;\n",
    "6. Remove datas onde não houve pagamento para nenhum ativo da lista;\n",
    "7. Remove o timezone (fuso) da coluna data;\n",
    "7. Retorna o dataframe df_proventos"
   ]
  },
  {
   "cell_type": "code",
   "execution_count": 6,
   "metadata": {},
   "outputs": [],
   "source": [
    "def proventos_ativos_yfinance(ativos_yf, start_date=start_date, end_date=end_date):\n",
    "\n",
    "    df_proventos = pd.DataFrame()\n",
    "\n",
    "    for i in ativos_yf:\n",
    "        proventos = yf.Ticker(i).dividends.to_frame(name=i.replace('.SA',''))\n",
    "        df_proventos = pd.merge(df_proventos, proventos, left_index=True, right_index=True, how='outer')\n",
    "\n",
    "    df_proventos = df_proventos.loc[start_date:]\n",
    "    df_proventos = df_proventos.dropna(how='all')\n",
    "\n",
    "    df_proventos = df_proventos.reset_index()\n",
    "    df_proventos['Date'] = df_proventos['Date'].dt.tz_localize(None)\n",
    "\n",
    "    return df_proventos"
   ]
  },
  {
   "cell_type": "markdown",
   "metadata": {},
   "source": [
    "## 3. Extração dos dados"
   ]
  },
  {
   "cell_type": "markdown",
   "metadata": {},
   "source": [
    "Vamos gerar os dois dataframes para exportar e customizar nosso relatório"
   ]
  },
  {
   "cell_type": "code",
   "execution_count": 7,
   "metadata": {},
   "outputs": [],
   "source": [
    "ativos = ['ABEV3', 'ELET3', 'ITUB4', 'PETR4', 'VALE3', 'WEGE3']\n",
    "ativos_yf = [i + '.SA' for i in ativos]\n",
    "\n",
    "start_date=(datetime.datetime.now()-datetime.timedelta(days=366)).strftime('%Y-%m-%d')\n",
    "end_date=(datetime.datetime.now() - datetime.timedelta(days=1)).strftime('%Y-%m-%d')\n",
    "\n",
    "df_composicao_carteira = ativos_composicao_carteira(ativos_yf)\n",
    "df_proventos = proventos_ativos_yfinance(ativos_yf)"
   ]
  },
  {
   "cell_type": "code",
   "execution_count": 8,
   "metadata": {},
   "outputs": [
    {
     "data": {
      "text/html": [
       "<div>\n",
       "<style scoped>\n",
       "    .dataframe tbody tr th:only-of-type {\n",
       "        vertical-align: middle;\n",
       "    }\n",
       "\n",
       "    .dataframe tbody tr th {\n",
       "        vertical-align: top;\n",
       "    }\n",
       "\n",
       "    .dataframe thead th {\n",
       "        text-align: right;\n",
       "    }\n",
       "</style>\n",
       "<table border=\"1\" class=\"dataframe\">\n",
       "  <thead>\n",
       "    <tr style=\"text-align: right;\">\n",
       "      <th></th>\n",
       "      <th>Ativo</th>\n",
       "      <th>Data início</th>\n",
       "      <th>Data final</th>\n",
       "      <th>Abertura</th>\n",
       "      <th>Máxima</th>\n",
       "      <th>Mínima</th>\n",
       "      <th>Fechamento</th>\n",
       "      <th>Quantidade</th>\n",
       "    </tr>\n",
       "  </thead>\n",
       "  <tbody>\n",
       "    <tr>\n",
       "      <th>0</th>\n",
       "      <td>ABEV3</td>\n",
       "      <td>2023-07-10</td>\n",
       "      <td>2024-07-09</td>\n",
       "      <td>15.450000</td>\n",
       "      <td>15.780000</td>\n",
       "      <td>10.980000</td>\n",
       "      <td>11.250000</td>\n",
       "      <td>343</td>\n",
       "    </tr>\n",
       "    <tr>\n",
       "      <th>1</th>\n",
       "      <td>ELET3</td>\n",
       "      <td>2023-07-10</td>\n",
       "      <td>2024-07-09</td>\n",
       "      <td>39.520000</td>\n",
       "      <td>44.910000</td>\n",
       "      <td>33.459999</td>\n",
       "      <td>37.880001</td>\n",
       "      <td>706</td>\n",
       "    </tr>\n",
       "    <tr>\n",
       "      <th>2</th>\n",
       "      <td>ITUB4</td>\n",
       "      <td>2023-07-10</td>\n",
       "      <td>2024-07-09</td>\n",
       "      <td>29.370001</td>\n",
       "      <td>35.950001</td>\n",
       "      <td>26.360001</td>\n",
       "      <td>32.869999</td>\n",
       "      <td>657</td>\n",
       "    </tr>\n",
       "    <tr>\n",
       "      <th>3</th>\n",
       "      <td>PETR4</td>\n",
       "      <td>2023-07-10</td>\n",
       "      <td>2024-07-09</td>\n",
       "      <td>29.110001</td>\n",
       "      <td>42.939999</td>\n",
       "      <td>27.950001</td>\n",
       "      <td>38.439999</td>\n",
       "      <td>233</td>\n",
       "    </tr>\n",
       "    <tr>\n",
       "      <th>4</th>\n",
       "      <td>VALE3</td>\n",
       "      <td>2023-07-10</td>\n",
       "      <td>2024-07-09</td>\n",
       "      <td>64.500000</td>\n",
       "      <td>78.550003</td>\n",
       "      <td>59.360001</td>\n",
       "      <td>63.099998</td>\n",
       "      <td>478</td>\n",
       "    </tr>\n",
       "    <tr>\n",
       "      <th>5</th>\n",
       "      <td>WEGE3</td>\n",
       "      <td>2023-07-10</td>\n",
       "      <td>2024-07-09</td>\n",
       "      <td>36.959999</td>\n",
       "      <td>44.470001</td>\n",
       "      <td>31.469999</td>\n",
       "      <td>44.470001</td>\n",
       "      <td>718</td>\n",
       "    </tr>\n",
       "  </tbody>\n",
       "</table>\n",
       "</div>"
      ],
      "text/plain": [
       "   Ativo Data início Data final   Abertura     Máxima     Mínima  Fechamento  \\\n",
       "0  ABEV3  2023-07-10 2024-07-09  15.450000  15.780000  10.980000   11.250000   \n",
       "1  ELET3  2023-07-10 2024-07-09  39.520000  44.910000  33.459999   37.880001   \n",
       "2  ITUB4  2023-07-10 2024-07-09  29.370001  35.950001  26.360001   32.869999   \n",
       "3  PETR4  2023-07-10 2024-07-09  29.110001  42.939999  27.950001   38.439999   \n",
       "4  VALE3  2023-07-10 2024-07-09  64.500000  78.550003  59.360001   63.099998   \n",
       "5  WEGE3  2023-07-10 2024-07-09  36.959999  44.470001  31.469999   44.470001   \n",
       "\n",
       "   Quantidade  \n",
       "0         343  \n",
       "1         706  \n",
       "2         657  \n",
       "3         233  \n",
       "4         478  \n",
       "5         718  "
      ]
     },
     "execution_count": 8,
     "metadata": {},
     "output_type": "execute_result"
    }
   ],
   "source": [
    "df_composicao_carteira"
   ]
  },
  {
   "cell_type": "code",
   "execution_count": 9,
   "metadata": {},
   "outputs": [
    {
     "data": {
      "text/html": [
       "<div>\n",
       "<style scoped>\n",
       "    .dataframe tbody tr th:only-of-type {\n",
       "        vertical-align: middle;\n",
       "    }\n",
       "\n",
       "    .dataframe tbody tr th {\n",
       "        vertical-align: top;\n",
       "    }\n",
       "\n",
       "    .dataframe thead th {\n",
       "        text-align: right;\n",
       "    }\n",
       "</style>\n",
       "<table border=\"1\" class=\"dataframe\">\n",
       "  <thead>\n",
       "    <tr style=\"text-align: right;\">\n",
       "      <th></th>\n",
       "      <th>Date</th>\n",
       "      <th>ABEV3</th>\n",
       "      <th>ELET3</th>\n",
       "      <th>ITUB4</th>\n",
       "      <th>PETR4</th>\n",
       "      <th>VALE3</th>\n",
       "      <th>WEGE3</th>\n",
       "    </tr>\n",
       "  </thead>\n",
       "  <tbody>\n",
       "    <tr>\n",
       "      <th>0</th>\n",
       "      <td>2023-07-24</td>\n",
       "      <td>NaN</td>\n",
       "      <td>NaN</td>\n",
       "      <td>NaN</td>\n",
       "      <td>NaN</td>\n",
       "      <td>NaN</td>\n",
       "      <td>0.145202</td>\n",
       "    </tr>\n",
       "    <tr>\n",
       "      <th>1</th>\n",
       "      <td>2023-08-01</td>\n",
       "      <td>NaN</td>\n",
       "      <td>NaN</td>\n",
       "      <td>0.01765</td>\n",
       "      <td>NaN</td>\n",
       "      <td>NaN</td>\n",
       "      <td>NaN</td>\n",
       "    </tr>\n",
       "    <tr>\n",
       "      <th>2</th>\n",
       "      <td>2023-08-14</td>\n",
       "      <td>NaN</td>\n",
       "      <td>NaN</td>\n",
       "      <td>NaN</td>\n",
       "      <td>NaN</td>\n",
       "      <td>1.918472</td>\n",
       "      <td>NaN</td>\n",
       "    </tr>\n",
       "    <tr>\n",
       "      <th>3</th>\n",
       "      <td>2023-08-22</td>\n",
       "      <td>NaN</td>\n",
       "      <td>NaN</td>\n",
       "      <td>NaN</td>\n",
       "      <td>1.149304</td>\n",
       "      <td>NaN</td>\n",
       "      <td>NaN</td>\n",
       "    </tr>\n",
       "    <tr>\n",
       "      <th>4</th>\n",
       "      <td>2023-09-01</td>\n",
       "      <td>NaN</td>\n",
       "      <td>NaN</td>\n",
       "      <td>0.01765</td>\n",
       "      <td>NaN</td>\n",
       "      <td>NaN</td>\n",
       "      <td>NaN</td>\n",
       "    </tr>\n",
       "  </tbody>\n",
       "</table>\n",
       "</div>"
      ],
      "text/plain": [
       "        Date  ABEV3  ELET3    ITUB4     PETR4     VALE3     WEGE3\n",
       "0 2023-07-24    NaN    NaN      NaN       NaN       NaN  0.145202\n",
       "1 2023-08-01    NaN    NaN  0.01765       NaN       NaN       NaN\n",
       "2 2023-08-14    NaN    NaN      NaN       NaN  1.918472       NaN\n",
       "3 2023-08-22    NaN    NaN      NaN  1.149304       NaN       NaN\n",
       "4 2023-09-01    NaN    NaN  0.01765       NaN       NaN       NaN"
      ]
     },
     "execution_count": 9,
     "metadata": {},
     "output_type": "execute_result"
    }
   ],
   "source": [
    "df_proventos.head()"
   ]
  },
  {
   "cell_type": "markdown",
   "metadata": {},
   "source": [
    "## 4. Exportação para Excel"
   ]
  },
  {
   "cell_type": "markdown",
   "metadata": {},
   "source": [
    "Basicamente, a rotina é\n",
    "\n",
    "* criar o writer;\n",
    "* preencher as células e definir os formatos/formulas/graficos;\n",
    "* fechar o writer.\n",
    "\n",
    "O grande lance está segunda etapa da rotina, onde toda a mágica acontece. Infelizmente não é possível visualizar o que foi feito a cada comando. Só conseguimos visualizar o output depois que fechamos o writer. Uma dica é fragmentar algumas ações desta segunda e executar separadamente (cria writer, fragmenta etapa 2, fecha writer) para visualizar o que aquele comando executa de fato."
   ]
  },
  {
   "cell_type": "markdown",
   "metadata": {},
   "source": [
    "Note que é muito mais fácil criar colunas e dados em geral no próprio dataframe e simplesmente exportá-los. Entretanto algumas vezes queremos manter as fórmulas ou formatos específicos do Excel no output. Por isso, mesmo contraintuitivo, vou apresentar algumas delas aqui."
   ]
  },
  {
   "cell_type": "markdown",
   "metadata": {},
   "source": [
    "### 4.1. Criar o writer"
   ]
  },
  {
   "cell_type": "markdown",
   "metadata": {},
   "source": [
    "Primeiro passo será criar um arquivo excel com duas planilhas internas (\"Composição carteira\" e \"Calendário Proventos\").\n",
    "\n",
    "Sugere-se que o formato datetime seja definido inicialmente no parâmetro \"datetime_format\".\n",
    "\n",
    "Não é possível formatar células de cabeçalho (header) e índice (index) diretamente. Por isso, observe que para customizar essas linhas/colunas, vamos colocar \"header\" and \"index\" como \"False\" e definir nossa linha inicial (\"startrow\") para começar em 1."
   ]
  },
  {
   "cell_type": "code",
   "execution_count": 10,
   "metadata": {},
   "outputs": [],
   "source": [
    "writer = pd.ExcelWriter('enhanced_excel_output.xlsx', engine='xlsxwriter', datetime_format=\"dd/mm/yyyy\")\n",
    "\n",
    "df_composicao_carteira.to_excel(writer, sheet_name=\"Composição_Carteira\", startrow=1, header=False, index=False)\n",
    "df_proventos.to_excel(writer, sheet_name=\"Calendário_Proventos\", startrow=1, header=False, index=False)\n",
    "\n",
    "workbook = writer.book"
   ]
  },
  {
   "cell_type": "markdown",
   "metadata": {},
   "source": [
    "### 4.2. Definir estilos de formatação geral"
   ]
  },
  {
   "cell_type": "markdown",
   "metadata": {},
   "source": [
    "Para maior customização, cada tipo de célula (cabeçalho, índice e demais células) devem receber um estilo específico.\n",
    "\n",
    "Por exemplo, na formatação do cabeçalho incluiremos funções como tipo/tamanho da fonte, negrito, alinhamento, cor do background e bordas.\n",
    "\n",
    "Para escolher uma cor basta digitar \"#D7E4BC\" no Google que abrirá a Tabela de Cores Hexadecimal. Selecione a cor desejada e altere o parâmetro \"set_fg_color\" do código"
   ]
  },
  {
   "cell_type": "code",
   "execution_count": 11,
   "metadata": {},
   "outputs": [],
   "source": [
    "header_format = workbook.add_format()\n",
    "header_format.set_font_name('Arial')\n",
    "header_format.set_font_size(11)\n",
    "header_format.set_font_color('black')\n",
    "header_format.set_bold()\n",
    "header_format.set_align('center')\n",
    "header_format.set_align('vcenter')\n",
    "header_format.set_fg_color(\"#D7E4BC\")\n",
    "header_format.set_bottom(2)\n",
    "header_format.set_top(2)"
   ]
  },
  {
   "cell_type": "markdown",
   "metadata": {},
   "source": [
    "Formato do índice"
   ]
  },
  {
   "cell_type": "code",
   "execution_count": 12,
   "metadata": {},
   "outputs": [],
   "source": [
    "index_format = workbook.add_format()\n",
    "index_format.set_font_name('Arial')\n",
    "index_format.set_font_size(10)\n",
    "index_format.set_font_color('black')\n",
    "header_format.set_bold()\n",
    "index_format.set_align('center')\n",
    "index_format.set_align('vcenter')"
   ]
  },
  {
   "cell_type": "markdown",
   "metadata": {},
   "source": [
    "Formato das colunas com preços Abertura, Máxima, Mínima e Fechamento. Queremos que esteja no formato monetário (R$), separador decimal com \".\", milhar com \",\" e duas casas decimais"
   ]
  },
  {
   "cell_type": "code",
   "execution_count": 13,
   "metadata": {},
   "outputs": [],
   "source": [
    "money_format = workbook.add_format({'num_format': 'R$ #,##0.00'})\n",
    "money_format.set_font_name('Arial')\n",
    "money_format.set_font_size(10)\n",
    "money_format.set_font_color('black')\n",
    "money_format.set_align('right')\n",
    "money_format.set_align('vcenter')"
   ]
  },
  {
   "cell_type": "markdown",
   "metadata": {},
   "source": [
    "Formato coluna Quantidade"
   ]
  },
  {
   "cell_type": "code",
   "execution_count": 14,
   "metadata": {},
   "outputs": [],
   "source": [
    "integer_format = workbook.add_format()\n",
    "integer_format.set_font_name('Arial')\n",
    "integer_format.set_font_size(10)\n",
    "integer_format.set_font_color('black')\n",
    "integer_format.set_align('right')\n",
    "integer_format.set_align('vcenter')"
   ]
  },
  {
   "cell_type": "markdown",
   "metadata": {},
   "source": [
    "Formato coluna Resultado, em % e com duas casas decimais (essa coluna será criada depois, calculada como o % entre fechamento e abertura (manteremos a fórmula no Excel)"
   ]
  },
  {
   "cell_type": "code",
   "execution_count": 15,
   "metadata": {},
   "outputs": [],
   "source": [
    "percent_format = workbook.add_format({\"num_format\": \"0.00%\"})\n",
    "percent_format.set_font_name('Arial')\n",
    "percent_format.set_font_size(10)\n",
    "percent_format.set_font_color('black')\n",
    "percent_format.set_align('right')\n",
    "percent_format.set_align('vcenter')"
   ]
  },
  {
   "cell_type": "markdown",
   "metadata": {},
   "source": [
    "### 4.3. Formatação subplanilha \"Composição_Carteira\""
   ]
  },
  {
   "cell_type": "markdown",
   "metadata": {},
   "source": [
    "Primeiro definimos a subplanilha \"Composição Carteira\" que vamos formatar"
   ]
  },
  {
   "cell_type": "code",
   "execution_count": 16,
   "metadata": {},
   "outputs": [],
   "source": [
    "worksheet_1 = writer.sheets[\"Composição_Carteira\"]"
   ]
  },
  {
   "cell_type": "markdown",
   "metadata": {},
   "source": [
    "#### 4.3.1. Formatar cabeçalho"
   ]
  },
  {
   "cell_type": "markdown",
   "metadata": {},
   "source": [
    "Vamos pegar o nome das colunas e iterar para preencher o cabeçalho.\n",
    "\n",
    "Na função worksheet.write(), definimos a linha inicial, a coluna, o conteúdo (value) da célula e o formato. A linha será 0 para todos (cabeçalho) e o número da coluna sera iterado ao longo do loop"
   ]
  },
  {
   "cell_type": "code",
   "execution_count": 17,
   "metadata": {},
   "outputs": [],
   "source": [
    "for col_num, value in enumerate(df_composicao_carteira.columns.values):\n",
    "    worksheet_1.write(0, col_num, value, header_format)"
   ]
  },
  {
   "cell_type": "markdown",
   "metadata": {},
   "source": [
    "Para entender alguns dos passos, você pode executar o print do que foi feito no loop.\n",
    "Observe que nesse loop ele pega o índice da coluna (col_num, 0 a 7) e os nomes (value)."
   ]
  },
  {
   "cell_type": "code",
   "execution_count": 18,
   "metadata": {},
   "outputs": [
    {
     "name": "stdout",
     "output_type": "stream",
     "text": [
      "0 0 Ativo\n",
      "0 1 Data início\n",
      "0 2 Data final\n",
      "0 3 Abertura\n",
      "0 4 Máxima\n",
      "0 5 Mínima\n",
      "0 6 Fechamento\n",
      "0 7 Quantidade\n"
     ]
    }
   ],
   "source": [
    "for col_num, value in enumerate(df_composicao_carteira.columns.values):\n",
    "    print(0, col_num, value)"
   ]
  },
  {
   "cell_type": "markdown",
   "metadata": {},
   "source": [
    "Linha=0, coluna=0, conteúdo=Ativo ...."
   ]
  },
  {
   "cell_type": "markdown",
   "metadata": {},
   "source": [
    "#### 4.3.2. Formatar índice"
   ]
  },
  {
   "cell_type": "markdown",
   "metadata": {},
   "source": [
    "Mesmo padrão de loop usado para o cabeçalho, mas agora com \"index_num+1\" já que a linha 0 representa o cabeçalho. Já o número da coluna será 0 para todos (índice)"
   ]
  },
  {
   "cell_type": "code",
   "execution_count": 19,
   "metadata": {},
   "outputs": [],
   "source": [
    "for index_num, value in enumerate(df_composicao_carteira.Ativo.values):\n",
    "    worksheet_1.write(index_num+1, 0, value, index_format)"
   ]
  },
  {
   "cell_type": "code",
   "execution_count": 20,
   "metadata": {},
   "outputs": [
    {
     "name": "stdout",
     "output_type": "stream",
     "text": [
      "1 0 ABEV3\n",
      "2 0 ELET3\n",
      "3 0 ITUB4\n",
      "4 0 PETR4\n",
      "5 0 VALE3\n",
      "6 0 WEGE3\n"
     ]
    }
   ],
   "source": [
    "for index_num, value in enumerate(df_composicao_carteira.Ativo.values):\n",
    "    print(index_num+1, 0, value)"
   ]
  },
  {
   "cell_type": "markdown",
   "metadata": {},
   "source": [
    "Linha=1, coluna=0, conteúdo=ABEV3 ...."
   ]
  },
  {
   "cell_type": "markdown",
   "metadata": {},
   "source": [
    "#### 4.3.3. Formatar colunas específicas: valor monetário"
   ]
  },
  {
   "cell_type": "markdown",
   "metadata": {},
   "source": [
    "Formatar as colunas Abertura, Máxima, Mínima e Fechamento (D a G no Excel) no formato \"money_format\" definido anteriormente. Definir o padrão comprimento da coluna como 1 (parâmetro obrigatório mas será alterado com o autofit posteriormente)."
   ]
  },
  {
   "cell_type": "code",
   "execution_count": 21,
   "metadata": {},
   "outputs": [
    {
     "data": {
      "text/plain": [
       "0"
      ]
     },
     "execution_count": 21,
     "metadata": {},
     "output_type": "execute_result"
    }
   ],
   "source": [
    "worksheet_1.set_column(\"D:G\", 1, money_format)"
   ]
  },
  {
   "cell_type": "markdown",
   "metadata": {},
   "source": [
    "#### 4.3.4. Criar uma nova coluna \"Resultado\" e manter fórmula"
   ]
  },
  {
   "cell_type": "markdown",
   "metadata": {},
   "source": [
    "Para mais detalhes sobre fórmulas consulte essa parte da documentação\n",
    "\n",
    "https://xlsxwriter.readthedocs.io/working_with_formulas.html"
   ]
  },
  {
   "cell_type": "markdown",
   "metadata": {},
   "source": [
    "Vamos criar a coluna \"Resultado\" (coluna I), usando o padrão de formatação do cabeçalho"
   ]
  },
  {
   "cell_type": "code",
   "execution_count": 22,
   "metadata": {},
   "outputs": [
    {
     "data": {
      "text/plain": [
       "0"
      ]
     },
     "execution_count": 22,
     "metadata": {},
     "output_type": "execute_result"
    }
   ],
   "source": [
    "worksheet_1.write('I1', 'Resultado', header_format)"
   ]
  },
  {
   "cell_type": "markdown",
   "metadata": {},
   "source": [
    "Usando um loop, calcular os valores da coluna pela fórmula: ((Fechamento-Abertura)/Abertura *100). Vamos manter a fórmula no output"
   ]
  },
  {
   "cell_type": "code",
   "execution_count": 23,
   "metadata": {},
   "outputs": [],
   "source": [
    "for index_num, value in enumerate(df_composicao_carteira.Ativo.values):\n",
    "    celula = \"I\" + str(index_num+2)\n",
    "    formula = \"=(G\" + str(index_num+2) + \"-D\" + str(index_num + 2) + \")/D\"+ str(index_num + 2)\n",
    "    worksheet_1.write_dynamic_array_formula(celula, formula, percent_format)"
   ]
  },
  {
   "cell_type": "markdown",
   "metadata": {},
   "source": [
    "Apenas para visualização do loop, vamos printar as variáveis célula e fórmula"
   ]
  },
  {
   "cell_type": "code",
   "execution_count": 24,
   "metadata": {},
   "outputs": [
    {
     "name": "stdout",
     "output_type": "stream",
     "text": [
      "I2\n",
      "=(G2-D2)/D2\n",
      "I3\n",
      "=(G3-D3)/D3\n",
      "I4\n",
      "=(G4-D4)/D4\n",
      "I5\n",
      "=(G5-D5)/D5\n",
      "I6\n",
      "=(G6-D6)/D6\n",
      "I7\n",
      "=(G7-D7)/D7\n"
     ]
    }
   ],
   "source": [
    "for index_num, value in enumerate(df_composicao_carteira.Ativo.values):\n",
    "    celula = \"I\" + str(index_num+2)\n",
    "    formula = \"=(G\" + str(index_num+2) + \"-D\" + str(index_num + 2) + \")/D\"+ str(index_num + 2)\n",
    "    worksheet_1.write_dynamic_array_formula(celula, formula, percent_format)\n",
    "    print(celula)\n",
    "    print(formula)"
   ]
  },
  {
   "cell_type": "markdown",
   "metadata": {},
   "source": [
    "Célula I2, função (G2-D2)/D2 ..."
   ]
  },
  {
   "cell_type": "markdown",
   "metadata": {},
   "source": [
    "#### 4.3.5. Formatação condicional"
   ]
  },
  {
   "cell_type": "markdown",
   "metadata": {},
   "source": [
    "Formatar os dados da coluna \"Resultado\" com fundo e cor da fonte verde se o Resultado foi positivo (fechamento > abertura) e vermelho se negativo"
   ]
  },
  {
   "cell_type": "code",
   "execution_count": 25,
   "metadata": {},
   "outputs": [
    {
     "data": {
      "text/plain": [
       "0"
      ]
     },
     "execution_count": 25,
     "metadata": {},
     "output_type": "execute_result"
    }
   ],
   "source": [
    "format_condition_1 = workbook.add_format({'bg_color': '#FFC7CE',\n",
    "                               'font_color': '#9C0006'})\n",
    "\n",
    "format_condition_2 = workbook.add_format({'bg_color':   '#C6EFCE',\n",
    "                               'font_color': '#006100'})\n",
    "\n",
    "worksheet_1.conditional_format('I2:I7', {'type': 'cell',\n",
    "                                        'criteria': '<=',\n",
    "                                        'value': 0,\n",
    "                                        'format': format_condition_1})\n",
    "\n",
    "worksheet_1.conditional_format('I2:I7', {'type': 'cell',\n",
    "                                        'criteria': '>',\n",
    "                                        'value': 0,\n",
    "                                        'format': format_condition_2})"
   ]
  },
  {
   "cell_type": "markdown",
   "metadata": {},
   "source": [
    "#### 4.3.6. Criar duas novas colunas \"Valor mercado inicial\" e \"Valor mercado final\" e manter fórmula"
   ]
  },
  {
   "cell_type": "markdown",
   "metadata": {},
   "source": [
    "Valor mercado inicial = Abertura * quantidade de ações\n",
    "\n",
    "Valor mercado final = Fechamento * quantidade de ações"
   ]
  },
  {
   "cell_type": "code",
   "execution_count": 26,
   "metadata": {},
   "outputs": [],
   "source": [
    "worksheet_1.write('J1', 'Valor mercado inicial', header_format)\n",
    "worksheet_1.write('K1', 'Valor mercado final', header_format)\n",
    "\n",
    "for index_num, value in enumerate(df_composicao_carteira.Ativo.values):\n",
    "    celula = \"J\" + str(index_num+2)\n",
    "    formula = \"=D\" + str(index_num+2) + \"*H\" + str(index_num + 2)\n",
    "    worksheet_1.write_dynamic_array_formula(celula, formula, money_format)\n",
    "\n",
    "for index_num, value in enumerate(df_composicao_carteira.Ativo.values):\n",
    "    celula = \"K\" + str(index_num+2)\n",
    "    formula = \"=G\" + str(index_num+2) + \"*H\" + str(index_num + 2)\n",
    "    worksheet_1.write_dynamic_array_formula(celula, formula, money_format)"
   ]
  },
  {
   "cell_type": "markdown",
   "metadata": {},
   "source": [
    "#### 4.3.7. Adicionar célula abaixo de \"Valor mercado inicial\" e \"Valor mercado final\" com o somatório dessas colunas"
   ]
  },
  {
   "cell_type": "markdown",
   "metadata": {},
   "source": [
    "Para formatar essas células, vamos copiar o estilo das células \"money_format\" mas incluindo um preenchimento na célula"
   ]
  },
  {
   "cell_type": "code",
   "execution_count": 27,
   "metadata": {},
   "outputs": [],
   "source": [
    "total_money_format = workbook.add_format({'num_format': 'R$ #,##0.00'})\n",
    "total_money_format.set_font_name('Arial')\n",
    "total_money_format.set_font_size(10)\n",
    "total_money_format.set_font_color('black')\n",
    "total_money_format.set_bold()\n",
    "total_money_format.set_align('right')\n",
    "total_money_format.set_align('vcenter')\n",
    "total_money_format.set_fg_color(\"#D7E4BC\")"
   ]
  },
  {
   "cell_type": "code",
   "execution_count": 28,
   "metadata": {},
   "outputs": [
    {
     "data": {
      "text/plain": [
       "0"
      ]
     },
     "execution_count": 28,
     "metadata": {},
     "output_type": "execute_result"
    }
   ],
   "source": [
    "celula = \"J\" + str(len(df_composicao_carteira.index.values)+2)\n",
    "formula = \"=sum(J2:J\" + str(len(df_composicao_carteira.index.values) + 1) + \")\"\n",
    "worksheet_1.write_dynamic_array_formula(celula, formula, cell_format=total_money_format)\n",
    "\n",
    "celula = \"K\" + str(len(df_composicao_carteira.index.values)+2)\n",
    "formula = \"=sum(K2:K\" + str(len(df_composicao_carteira.index.values) + 1) + \")\"\n",
    "worksheet_1.write_dynamic_array_formula(celula, formula, cell_format=total_money_format)"
   ]
  },
  {
   "cell_type": "markdown",
   "metadata": {},
   "source": [
    "#### 4.3.8. Adicionar coluna com Saldo da variação do preço"
   ]
  },
  {
   "cell_type": "markdown",
   "metadata": {},
   "source": [
    "Saldo da variação do preço = Valor mercado final - Valor mercado inicial"
   ]
  },
  {
   "cell_type": "code",
   "execution_count": 29,
   "metadata": {},
   "outputs": [
    {
     "data": {
      "text/plain": [
       "0"
      ]
     },
     "execution_count": 29,
     "metadata": {},
     "output_type": "execute_result"
    }
   ],
   "source": [
    "worksheet_1.write('L1', 'Saldo variação preço', header_format)\n",
    "\n",
    "for index_num, value in enumerate(df_composicao_carteira.Ativo.values):\n",
    "    celula = \"L\" + str(index_num+2)\n",
    "    formula = \"=K\" + str(index_num+2) + \"-J\" + str(index_num + 2)\n",
    "    worksheet_1.write_dynamic_array_formula(celula, formula, money_format)\n",
    "\n",
    "celula = \"L\" + str(len(df_composicao_carteira.index.values)+2)\n",
    "formula = \"=sum(L2:L\" + str(len(df_composicao_carteira.index.values) + 1) + \")\"\n",
    "worksheet_1.write_dynamic_array_formula(celula, formula, cell_format=total_money_format)"
   ]
  },
  {
   "cell_type": "markdown",
   "metadata": {},
   "source": [
    "### 4.4. Formatação subplanilha \"Calendário_Proventos\""
   ]
  },
  {
   "cell_type": "markdown",
   "metadata": {},
   "source": [
    "Seguiremos o mesmo código da outra subplanilha"
   ]
  },
  {
   "cell_type": "code",
   "execution_count": 30,
   "metadata": {},
   "outputs": [],
   "source": [
    "worksheet_2 = writer.sheets[\"Calendário_Proventos\"]"
   ]
  },
  {
   "cell_type": "markdown",
   "metadata": {},
   "source": [
    "### 4.4.1. Cabeçalho"
   ]
  },
  {
   "cell_type": "code",
   "execution_count": 31,
   "metadata": {},
   "outputs": [],
   "source": [
    "for col_num, value in enumerate(df_proventos.columns.values):\n",
    "    worksheet_2.write(0, col_num, value, header_format)"
   ]
  },
  {
   "cell_type": "markdown",
   "metadata": {},
   "source": [
    "#### 4.4.2. Criar uma última linha \"TOTAL\""
   ]
  },
  {
   "cell_type": "markdown",
   "metadata": {},
   "source": [
    "Incluiremos uma linha no final da subplanilha, com o total de proventos pagos por cada ativo no período considerado. Esse total representa quanto uma única ação teria gerado de proventos"
   ]
  },
  {
   "cell_type": "markdown",
   "metadata": {},
   "source": [
    "Dessa vez, a fórmula abrange uma mesma linha e diferentes colunas (mais complexo). Anteriormente vimos uma fórmula aplicada a diferentes linhas da mesma coluna"
   ]
  },
  {
   "cell_type": "markdown",
   "metadata": {},
   "source": [
    "Para manter a fórmula, faremos um pouco de malabarismo nos dados usando a lib string. Ela exporta a sequencia de letras (ABCD...), que usaremos no loop para construir a fórmula que soma todas as linhas acima dentro de uma mesma coluna"
   ]
  },
  {
   "cell_type": "markdown",
   "metadata": {},
   "source": [
    "Nossa coluna A são as datas de pagamentos, entao de B a G temos nossos ativos (índice 1 a número de colunas do df)"
   ]
  },
  {
   "cell_type": "code",
   "execution_count": 32,
   "metadata": {},
   "outputs": [
    {
     "data": {
      "text/plain": [
       "'BCDEFG'"
      ]
     },
     "execution_count": 32,
     "metadata": {},
     "output_type": "execute_result"
    }
   ],
   "source": [
    "import string\n",
    "\n",
    "uppercase_alphabet = string.ascii_uppercase\n",
    "str_columns = uppercase_alphabet[1:len(df_proventos.columns)]\n",
    "str_columns"
   ]
  },
  {
   "cell_type": "code",
   "execution_count": 33,
   "metadata": {},
   "outputs": [
    {
     "name": "stdout",
     "output_type": "stream",
     "text": [
      "B33\n",
      "=sum(B2:B32)\n",
      "C33\n",
      "=sum(C2:C32)\n",
      "D33\n",
      "=sum(D2:D32)\n",
      "E33\n",
      "=sum(E2:E32)\n",
      "F33\n",
      "=sum(F2:F32)\n",
      "G33\n",
      "=sum(G2:G32)\n"
     ]
    }
   ],
   "source": [
    "worksheet_2.write(str(\"A\"+str(len(df_proventos)+2)), 'TOTAL', header_format)\n",
    "\n",
    "for i in str_columns:\n",
    "    celula = str(i + str(len(df_proventos)+2))\n",
    "    formula = \"=sum(\"+i+'2:'+str(i + str(len(df_proventos)+1))+\")\"\n",
    "    worksheet_2.write_dynamic_array_formula(celula, formula, cell_format=total_money_format)\n",
    "    print(celula)\n",
    "    print(formula)"
   ]
  },
  {
   "cell_type": "markdown",
   "metadata": {},
   "source": [
    "### 4.5. Acessar dados de outra subplanilha"
   ]
  },
  {
   "cell_type": "markdown",
   "metadata": {},
   "source": [
    "Criar uma nova coluna \"Total proventos recebidos\" na subplanilha \"Composição_Carteira\"\n",
    "\n",
    "Essa coluna será a multiplicação do total pago por ação no intervalo de tempo avaliado (Calendário Proventos) e a quantidade de cada ação na carteira"
   ]
  },
  {
   "cell_type": "code",
   "execution_count": 34,
   "metadata": {},
   "outputs": [],
   "source": [
    "worksheet_1.write(\"M1\", 'Total proventos recebidos', header_format)\n",
    "\n",
    "for index_num, value in enumerate(df_composicao_carteira.Ativo.values):\n",
    "    celula = \"M\" + str(index_num+2)\n",
    "    formula = \"=Calendário_Proventos!\" + str_columns[index_num]+'33' + \"*H\" + str(index_num + 2)\n",
    "    worksheet_1.write_dynamic_array_formula(celula, formula, money_format)"
   ]
  },
  {
   "cell_type": "markdown",
   "metadata": {},
   "source": [
    "Adicionar uma célula abaixo com o total de proventos recebidos"
   ]
  },
  {
   "cell_type": "code",
   "execution_count": 35,
   "metadata": {},
   "outputs": [
    {
     "data": {
      "text/plain": [
       "0"
      ]
     },
     "execution_count": 35,
     "metadata": {},
     "output_type": "execute_result"
    }
   ],
   "source": [
    "celula = \"M\" + str(len(df_composicao_carteira.index.values)+2)\n",
    "formula = \"=sum(M2:M\" + str(len(df_composicao_carteira.index.values) + 1) + \")\"\n",
    "worksheet_1.write_dynamic_array_formula(celula, formula, cell_format=total_money_format)"
   ]
  },
  {
   "cell_type": "markdown",
   "metadata": {},
   "source": [
    "### 4.6. Inserir gráficos"
   ]
  },
  {
   "cell_type": "markdown",
   "metadata": {},
   "source": [
    "Seções da documentação\n",
    "\n",
    "https://xlsxwriter.readthedocs.io/chart.html#chart-class\n",
    "\n",
    "https://xlsxwriter.readthedocs.io/working_with_charts.html#working-with-charts"
   ]
  },
  {
   "cell_type": "markdown",
   "metadata": {},
   "source": [
    "Primeiro vamos inserir um gráfico de pizza com a composição de nossa carteira por ativos"
   ]
  },
  {
   "cell_type": "code",
   "execution_count": 36,
   "metadata": {},
   "outputs": [
    {
     "data": {
      "text/plain": [
       "0"
      ]
     },
     "execution_count": 36,
     "metadata": {},
     "output_type": "execute_result"
    }
   ],
   "source": [
    "chart_pizza = workbook.add_chart({'type': 'pie'})\n",
    "\n",
    "chart_pizza.add_series({\n",
    "    \"name\": \"Distribuição carteira\",\n",
    "    'categories': '=Composição_Carteira!$A$2:$A$7',\n",
    "    'values': '=Composição_Carteira!$H$2:$H$7',\n",
    "    'border': {'color': 'black'},\n",
    "    \"data_labels\": {\"value\": True}\n",
    "})\n",
    "\n",
    "chart_pizza.set_title({\"name\": \"Composição da carteira\"})\n",
    "\n",
    "worksheet_1.insert_chart('H11', chart_pizza)"
   ]
  },
  {
   "cell_type": "markdown",
   "metadata": {},
   "source": [
    "Agora um gráfico de barras empilhadas para avaliar o saldo da carteira resultante da variação do preço do ativo e o total de proventos pagos.\n",
    "\n",
    "Nesse caso, é preciso configurar as duas séries de dados"
   ]
  },
  {
   "cell_type": "code",
   "execution_count": 37,
   "metadata": {},
   "outputs": [
    {
     "data": {
      "text/plain": [
       "0"
      ]
     },
     "execution_count": 37,
     "metadata": {},
     "output_type": "execute_result"
    }
   ],
   "source": [
    "chart_bar = workbook.add_chart({\"type\": \"bar\", \"subtype\": \"stacked\"})\n",
    "\n",
    "chart_bar.add_series(\n",
    "    {\n",
    "        \"name\": \"=Composição_Carteira!$L$1\",\n",
    "        \"categories\": \"=Composição_Carteira!$A$2:$A$7\",\n",
    "        \"values\": \"=Composição_Carteira!$L$2:$L$7\",\n",
    "    }\n",
    ")\n",
    "\n",
    "chart_bar.add_series(\n",
    "    {\n",
    "        \"name\": \"=Composição_Carteira!$M$1\",\n",
    "        \"categories\": \"=Composição_Carteira!$A$2:$A$7\",\n",
    "        \"values\": \"=Composição_Carteira!$M$2:$M$7\",\n",
    "    }\n",
    ")\n",
    "\n",
    "chart_bar.set_title({\"name\": \"Saldo líquido ativos\"})\n",
    "chart_bar.set_x_axis({\"name\": \"Valor (R$)\",\n",
    "                      'crossing': 'min'})\n",
    "chart_bar.set_y_axis({\"name\": \"Ativos\",\n",
    "                      'crossing': 'min'})\n",
    "chart_bar.set_legend({'position': 'bottom'})\n",
    "\n",
    "worksheet_1.insert_chart(\"B11\", chart_bar, {\"x_offset\": 25, \"y_offset\": 10})"
   ]
  },
  {
   "cell_type": "markdown",
   "metadata": {},
   "source": [
    "### 4.7. Inserir uma imagem"
   ]
  },
  {
   "cell_type": "markdown",
   "metadata": {},
   "source": [
    "Vamos baixar a imagem da lib yfinance pelo link e inserir na célula O2. Reduzir o tamanho pela metade"
   ]
  },
  {
   "cell_type": "code",
   "execution_count": 38,
   "metadata": {},
   "outputs": [
    {
     "data": {
      "text/plain": [
       "0"
      ]
     },
     "execution_count": 38,
     "metadata": {},
     "output_type": "execute_result"
    }
   ],
   "source": [
    "from PIL import Image\n",
    "import requests\n",
    "from io import BytesIO\n",
    "\n",
    "url = 'https://upload.wikimedia.org/wikipedia/commons/thumb/8/8f/Yahoo%21_Finance_logo_2021.png/375px-Yahoo%21_Finance_logo_2021.png'\n",
    "response = requests.get(url)\n",
    "img = Image.open(BytesIO(response.content))\n",
    "img.save(\"yfinance_fig.png\",\"PNG\")\n",
    "\n",
    "worksheet_1.insert_image('O2', \"yfinance_fig.png\", {'x_scale': 0.5, 'y_scale': 0.5})"
   ]
  },
  {
   "cell_type": "markdown",
   "metadata": {},
   "source": [
    "### 4.8. Fechar o writer"
   ]
  },
  {
   "cell_type": "markdown",
   "metadata": {},
   "source": [
    "Por fim, configuramos o ajuste automático do tamanho das colunas em cada subplanilha e fechamos o writer "
   ]
  },
  {
   "cell_type": "code",
   "execution_count": 39,
   "metadata": {},
   "outputs": [],
   "source": [
    "worksheet_1.autofit()\n",
    "worksheet_2.autofit()\n",
    "\n",
    "writer.close()"
   ]
  },
  {
   "cell_type": "markdown",
   "metadata": {},
   "source": [
    "Pronto, agora só checar como ficou seu arquivo Excel na pasta e explorar o universo de funções, formatos e gráficos disponíveis!"
   ]
  }
 ],
 "metadata": {
  "kernelspec": {
   "display_name": "Python 3",
   "language": "python",
   "name": "python3"
  },
  "language_info": {
   "codemirror_mode": {
    "name": "ipython",
    "version": 3
   },
   "file_extension": ".py",
   "mimetype": "text/x-python",
   "name": "python",
   "nbconvert_exporter": "python",
   "pygments_lexer": "ipython3",
   "version": "3.12.3"
  }
 },
 "nbformat": 4,
 "nbformat_minor": 2
}
